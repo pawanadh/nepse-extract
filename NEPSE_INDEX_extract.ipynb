{
 "metadata": {
  "name": "",
  "signature": "sha256:6eedf5e632581f80582036c095fb759aa36358bd231bd11e9a443798d24ecef2"
 },
 "nbformat": 3,
 "nbformat_minor": 0,
 "worksheets": [
  {
   "cells": [
    {
     "cell_type": "code",
     "collapsed": false,
     "input": [
      "# Extract NEPSE Data\n",
      "\n",
      "The following script extacts data from http://www.nepalstock.com/datanepse/Indices.php depending up the value passed the script extracts NEPSE Index, Sensitive Index, Float Index, Banking etc.\n",
      "\n",
      "The above page uses **POST** method to pass the variable **topTenBased** from the *select* object and the same page loads the data accordingly. Below is the source code and the value of different options. \n",
      "\n",
      "```\n",
      "    <select name=\"topTenBased\">  \n",
      "\t  <option value=\"58\">NEPSE</option>\n",
      "\t  <option value=\"57\">Sensitive</option>\n",
      "\t  <option value=\"62\">Float</option>\n",
      "\t  <option value=\"63\">Sen. Float</option>\n",
      "  </select>\n",
      "```\n",
      "The script uses **requests.post** to pass the value "
     ],
     "language": "python",
     "metadata": {},
     "outputs": []
    },
    {
     "cell_type": "code",
     "collapsed": false,
     "input": [
      "import requests\n",
      "from pattern import web"
     ],
     "language": "python",
     "metadata": {},
     "outputs": []
    },
    {
     "cell_type": "code",
     "collapsed": false,
     "input": [
      "postdata= {\n",
      "    'topTenBased' : '58', #item from Select menu\n",
      "    'Submit' : 'Submit'\n",
      "    }\n",
      "r = requests.post('http://www.nepalstock.com/datanepse/Indices.php', data=postdata)\n",
      "dom = web.Element(r.text)\n",
      "\n",
      "#Working with local file\n",
      "# r = open('Indices.htm')\n",
      "#dom = web.Element(r.read())"
     ],
     "language": "python",
     "metadata": {},
     "outputs": []
    },
    {
     "cell_type": "code",
     "collapsed": false,
     "input": [
      "#creating DOM and getting the Title corresponding to topTenBased value\n",
      "data = dom.by_tag('table.dataTable')[1]\n",
      "title = data.by_tag('td')[0].content\n",
      "title = title.partition(' ')[0] #title of the table\n"
     ],
     "language": "python",
     "metadata": {},
     "outputs": []
    },
    {
     "cell_type": "code",
     "collapsed": false,
     "input": [
      "#Iteration and storing data in array \n",
      "def content (idx):\n",
      "    mydata = []\n",
      "    for i in range(0, idx):\n",
      "        ad=d.by_tag('td')[i].content\n",
      "        mydata.append(ad)\n",
      "    mydata.append(title)\n",
      "    print mydata\n",
      "\n",
      "\n",
      "for d in data.by_class('row1'):\n",
      "    idx = len(d.by_tag('td'))\n",
      "    content(idx)"
     ],
     "language": "python",
     "metadata": {},
     "outputs": []
    },
    {
     "cell_type": "code",
     "collapsed": false,
     "input": [
      "#Manual extraction - NEPSE Index- passing topTenBased = 58 \n",
      "for d in data.by_class('row1'):\n",
      "    date = d.by_tag('td')[1].content\n",
      "    index = d.by_tag('td')[2].content\n",
      "    absolute_change = d.by_tag('td')[3].content\n",
      "    percentage_change = d.by_tag('td')[4].content\n",
      "    traded_qnt = d.by_tag('td')[5].content\n",
      "    tranded_amt = d.by_tag('td')[6].content"
     ],
     "language": "python",
     "metadata": {},
     "outputs": []
    }
   ],
   "metadata": {}
  }
 ]
}